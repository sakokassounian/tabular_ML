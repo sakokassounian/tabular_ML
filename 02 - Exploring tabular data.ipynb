{
 "cells": [
  {
   "cell_type": "markdown",
   "id": "b388bb08-e46e-49b0-bfde-823060140c0e",
   "metadata": {},
   "source": [
    "# Exploring Tabular Datasets"
   ]
  },
  {
   "cell_type": "markdown",
   "id": "f42074db-8e80-436f-9d76-952a84f74365",
   "metadata": {},
   "source": [
    "## 1. Characteristics of Rows"
   ]
  },
  {
   "cell_type": "markdown",
   "id": "da4a7256-646f-484e-9ced-67a6f4051e8f",
   "metadata": {
    "jp-MarkdownHeadingCollapsed": true
   },
   "source": [
    "#### Independent and Identically Distributed (IID)\n",
    "\n",
    "When working with tabular data, it's important to ensure that each row (i.e., example) is **independent and identically distributed (IID)** — unless you're dealing with time series or hierarchical data. IID means that each sample is drawn independently from the same underlying distribution, like repeated coin flips or dice rolls. This assumption simplifies many aspects of machine learning, such as model training, cross-validation, and sampling methods like bootstrapping. \n",
    "\n",
    "However, many real-world datasets violate the IID assumption. For instance, sales from the same store or responses from students in the same class tend to be correlated, introducing non-IID characteristics. Non-IID data can lead to misleading model performance, overfitting to hidden relationships, and biased validation scores. It's important to detect these patterns through data exploration and understand how they might impact your modeling process."
   ]
  },
  {
   "cell_type": "markdown",
   "id": "e79a6149-d2b8-4056-ad20-9bb105849d8b",
   "metadata": {},
   "source": [
    "#### Why IID Matters in Machine Learning\n",
    "\n",
    "Most statistical and machine learning methods assume that data is **independent and identically distributed (IID)**. While machine learning is often data-driven and nonparametric, it still relies heavily on the IID assumption to make reliable predictions. In reality, most datasets are not truly IID.\n",
    "\n",
    "A key limitation of machine learning algorithms is that they are **column-aware but not row-aware**—they learn relationships between features and the target but cannot understand dependencies between rows. This means that if data has hidden patterns due to time or grouping, the model may wrongly interpret them as feature-based correlations.\n",
    "\n",
    "**Time series and longitudinal data** are classic examples of non-IID data, where observations are autocorrelated. In such cases, time-based features (e.g., timestamps or lagged variables) help the model account for temporal dependencies. Depending on your data structure, you can:\n",
    "\n",
    "* Use timestamps as features (for proper time series analysis with special validation techniques).\n",
    "* Create time-based features by pivoting multiple time points into separate columns, allowing the data to be treated as IID.\n",
    "\n",
    "Properly identifying and handling non-IID structures is essential to avoid misleading results and to ensure your models generalize well.\n"
   ]
  },
  {
   "cell_type": "markdown",
   "id": "70941013-f404-4ef2-aa88-3e0f0c0196c2",
   "metadata": {},
   "source": [
    "#### Handling Non-IID Data in Time and Groups\n",
    "\n",
    "Even in **cross-sectional datasets**, comparing different time periods can introduce **temporal dependencies**, making the data non-IID—even when there's no interaction between units or groups. In such cases, the **order of observations matters**, and time series models become necessary to capture the correlation across time points.\n",
    "\n",
    "To prepare data effectively for modeling:\n",
    "\n",
    "* **Check how time affects your data**, and consider using **time features**, **lags**, or **moving averages** to control for temporal shifts.\n",
    "* Be **explicit about grouping**: if hidden relationships or groups exist in your data, represent them with features and use **group-aware validation techniques**.\n",
    "* For grouped data, prefer **group cross-validation** to avoid splitting related rows across train and validation sets.\n",
    "* For temporal data, use **time-based validation** methods to preserve the order and avoid data leakage.\n",
    "\n",
    "Properly addressing these issues improves model reliability and prevents overfitting to spurious or time-based patterns.\n",
    "\n"
   ]
  },
  {
   "cell_type": "markdown",
   "id": "b17c9a65-291b-4ca4-8bb2-b9a8c31aa176",
   "metadata": {},
   "source": [
    "## 2. Characteristics of Columns"
   ]
  },
  {
   "cell_type": "markdown",
   "id": "edf1f946-98d8-4468-a06c-c34ee50dd0a1",
   "metadata": {},
   "source": [
    "\n",
    "\n",
    "| **Feature Type**      | **Description**                                                             | **Examples**                     | **Key Notes**                                                           |\n",
    "| --------------------- | --------------------------------------------------------------------------- | -------------------------------- | ----------------------------------------------------------------------- |\n",
    "| **Numeric (Float)**   | Real numbers; can be **ratio** (true zero) or **interval** (arbitrary zero) | Price, weight, temperature       | Can standardize; ensure consistent units; interval data can be negative |\n",
    "| **Numeric (Integer)** | Whole numbers; may also be **ordinal** or **categorical**                   | Count, age                       | Check continuity & uniqueness; treat carefully if used as labels        |\n",
    "| **Ordinal**           | Ordered categories with **uneven spacing**                                  | Ratings (e.g., 1–5 stars), ranks | Do not compute mean/std; preserve order but not magnitude               |\n",
    "| **Categorical**       | Unordered labels (strings or integers)                                      | Color, country, product type     | Handle with encoding; manage cardinality (low vs. high)                 |\n",
    "| **Binary**            | Special case of categorical with **two values**                             | Yes/No, 0/1, presence/absence    | Often used directly in models                                           |\n",
    "| **Date/Time**         | Temporal data                                                               | Timestamps, dates                | Decompose into parts (day, month, year); can convert to Unix time       |\n",
    "\n",
    "---\n"
   ]
  }
 ],
 "metadata": {
  "kernelspec": {
   "display_name": "Python 3 (ipykernel)",
   "language": "python",
   "name": "python3"
  },
  "language_info": {
   "codemirror_mode": {
    "name": "ipython",
    "version": 3
   },
   "file_extension": ".py",
   "mimetype": "text/x-python",
   "name": "python",
   "nbconvert_exporter": "python",
   "pygments_lexer": "ipython3",
   "version": "3.11.0"
  }
 },
 "nbformat": 4,
 "nbformat_minor": 5
}
