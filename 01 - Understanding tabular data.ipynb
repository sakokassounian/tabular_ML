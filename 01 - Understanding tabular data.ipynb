{
 "cells": [
  {
   "cell_type": "markdown",
   "id": "9e61c168-c44e-4636-a986-793600362ebe",
   "metadata": {},
   "source": [
    "# Summary of chapter 1\n",
    "\n",
    "- **Tabular data** is data organized in rows and columns, such as data in CSV files or relational database tables.  \n",
    "- **Structured data** is sometimes used as an alternative term for tabular data, but it’s a broader concept that also includes formats like JSON.  \n",
    "- Tabular data makes up a **small portion** of global digital data, yet it has a **huge impact** on daily life and decision-making.  \n",
    "- Compared to other data types (e.g., images, video, text, audio), **most real-world jobs revolve around tabular data** — making machine learning on tabular data a highly practical skill.  \n",
    "- In this book, we refer to **non-neural network approaches** (from linear regression to gradient boosting) as **classical machine learning** to distinguish them from deep learning.  \n",
    "- **Deep learning on tabular data** gets relatively little attention from researchers, largely due to a **lack of good business datasets** in open-source repositories.  \n",
    "- Conventional wisdom favors using **gradient boosting models** (e.g., XGBoost) for tabular data tasks.  \n",
    "- There is an **ongoing debate** about the role of deep learning in solving tabular problems. This book takes **no sides** but aims to objectively present when and how each approach is appropriate.  \n",
    "- Tabular data has **unique characteristics**, such as the **lack of large public datasets** resembling real-world business problems — unlike the situation with image or text datasets.  \n",
    "- **Generative AI and LLMs** are transforming how AI is used, including in tabular data analysis. LLMs can help automate various tasks, especially those involving **textual inputs and outputs** tied to tabular workflows.\n"
   ]
  }
 ],
 "metadata": {
  "kernelspec": {
   "display_name": "Python 3 (ipykernel)",
   "language": "python",
   "name": "python3"
  },
  "language_info": {
   "codemirror_mode": {
    "name": "ipython",
    "version": 3
   },
   "file_extension": ".py",
   "mimetype": "text/x-python",
   "name": "python",
   "nbconvert_exporter": "python",
   "pygments_lexer": "ipython3",
   "version": "3.11.0"
  }
 },
 "nbformat": 4,
 "nbformat_minor": 5
}
